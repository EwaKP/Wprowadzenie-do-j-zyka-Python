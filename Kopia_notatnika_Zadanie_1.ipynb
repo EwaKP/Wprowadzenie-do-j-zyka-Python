{
  "cells": [
    {
      "cell_type": "markdown",
      "metadata": {
        "id": "view-in-github",
        "colab_type": "text"
      },
      "source": [
        "<a href=\"https://colab.research.google.com/github/EwaKP/Wprowadzenie-do-j-zyka-Python/blob/main/Kopia_notatnika_Zadanie_1.ipynb\" target=\"_parent\"><img src=\"https://colab.research.google.com/assets/colab-badge.svg\" alt=\"Open In Colab\"/></a>"
      ]
    },
    {
      "cell_type": "markdown",
      "id": "8c669253",
      "metadata": {
        "id": "8c669253"
      },
      "source": [
        "# Metody i techniki sztucznej inteligencji\n",
        "\n",
        "## Zadanie zaliczeniowe - klasyfikacja\n",
        "<b>Ewa Kędzierska-Placińska</b>"
      ]
    },
    {
      "cell_type": "markdown",
      "id": "3e0c4807",
      "metadata": {
        "id": "3e0c4807"
      },
      "source": [
        "https://www.kaggle.com/datasets/mujtabamatin/air-quality-and-pollution-assessment"
      ]
    },
    {
      "cell_type": "markdown",
      "id": "badbc3ed",
      "metadata": {
        "id": "badbc3ed"
      },
      "source": [
        "**Zadanie 1.**\n",
        "Wczytaj niezbędne biblioteki"
      ]
    },
    {
      "cell_type": "code",
      "execution_count": null,
      "metadata": {
        "id": "31397812"
      },
      "outputs": [],
      "source": [
        "import numpy as np\n",
        "import pandas as pd\n",
        "\n",
        "import matplotlib.pyplot as plt\n",
        "import seaborn as sns\n",
        "from PIL import Image\n",
        "\n",
        "import cv2\n",
        "\n",
        "import tensorflow as tf\n",
        "from tensorflow.keras import models\n",
        "from tensorflow.keras.preprocessing import image\n",
        "from tensorflow.keras.layers import Conv2D, MaxPooling2D, Flatten, Dense, UpSampling2D, Concatenate, Dropout, BatchNormalization\n",
        "from tensorflow.keras.losses import binary_crossentropy\n",
        "from tensorflow.keras.optimizers import Adam\n",
        "\n",
        "from sklearn.model_selection import train_test_split\n",
        "from sklearn.metrics import classification_report, confusion_matrix\n",
        "from sklearn.preprocessing import StandardScaler\n",
        "\n",
        "import warnings\n",
        "warnings.filterwarnings('ignore')"
      ],
      "id": "31397812"
    },
    {
      "cell_type": "markdown",
      "id": "784e51f3",
      "metadata": {
        "id": "784e51f3"
      },
      "source": [
        "**Zadanie 2.** Załaduj zbiór danych"
      ]
    },
    {
      "cell_type": "code",
      "source": [
        "dataset = pd.read_csv(r\"C:\\Users\\Ewa\\Downloads\\updated_pollution_dataset.csv\")"
      ],
      "metadata": {
        "id": "f3vDfmwtPZ_e"
      },
      "id": "f3vDfmwtPZ_e",
      "execution_count": null,
      "outputs": []
    },
    {
      "cell_type": "markdown",
      "id": "04371018",
      "metadata": {
        "id": "04371018"
      },
      "source": [
        "**Zadanie 3.** Wyświetl 5 pierwszych wierszy zbioru"
      ]
    },
    {
      "cell_type": "code",
      "source": [
        "dataset.head()"
      ],
      "metadata": {
        "id": "ML-PpF0bPdyi"
      },
      "id": "ML-PpF0bPdyi",
      "execution_count": null,
      "outputs": []
    },
    {
      "cell_type": "markdown",
      "id": "795c2c23",
      "metadata": {
        "id": "795c2c23"
      },
      "source": [
        "**Zadanie 4.** Wyświetl 5 ostatnich wierszy zbioru"
      ]
    },
    {
      "cell_type": "code",
      "source": [
        "dataset.tail()"
      ],
      "metadata": {
        "id": "gz2kKgS_Pi-F"
      },
      "id": "gz2kKgS_Pi-F",
      "execution_count": null,
      "outputs": []
    },
    {
      "cell_type": "markdown",
      "id": "41b85630",
      "metadata": {
        "id": "41b85630"
      },
      "source": [
        "**Zadanie 5.** Wyświetl typy danych w zbiorze"
      ]
    },
    {
      "cell_type": "code",
      "execution_count": null,
      "id": "26e03d0f",
      "metadata": {
        "id": "26e03d0f"
      },
      "outputs": [],
      "source": [
        "dataset.dtypes"
      ]
    },
    {
      "cell_type": "markdown",
      "id": "f69e0cde",
      "metadata": {
        "id": "f69e0cde"
      },
      "source": [
        "**Zadanie 6.** Wyświetl rozmiary zbioru"
      ]
    },
    {
      "cell_type": "code",
      "execution_count": null,
      "id": "e9790b50",
      "metadata": {
        "id": "e9790b50"
      },
      "outputs": [],
      "source": [
        "dataset.shape"
      ]
    },
    {
      "cell_type": "markdown",
      "id": "048e2217",
      "metadata": {
        "id": "048e2217"
      },
      "source": [
        "**Zadanie 7.** Wyświetl wszystkie statystyki"
      ]
    },
    {
      "cell_type": "code",
      "execution_count": null,
      "id": "2165c1b8",
      "metadata": {
        "id": "2165c1b8"
      },
      "outputs": [],
      "source": [
        "dataset.describe(include=\"all\")"
      ]
    },
    {
      "cell_type": "markdown",
      "id": "9f763d0a",
      "metadata": {
        "id": "9f763d0a"
      },
      "source": [
        "**Zadanie 8.** Sprawdź czy zbiór zawiera duplikaty"
      ]
    },
    {
      "cell_type": "code",
      "execution_count": null,
      "id": "2f56167f",
      "metadata": {
        "id": "2f56167f"
      },
      "outputs": [],
      "source": [
        "dataset.duplicated().sum()"
      ]
    },
    {
      "cell_type": "markdown",
      "id": "9c32dc64",
      "metadata": {
        "id": "9c32dc64"
      },
      "source": [
        "**Zadanie 9.** Sprawdź czy zbiór zawiera brakujące wartości - isna"
      ]
    },
    {
      "cell_type": "code",
      "execution_count": null,
      "id": "4156b44f",
      "metadata": {
        "id": "4156b44f"
      },
      "outputs": [],
      "source": [
        "dataset.isna().sum()/dataset.shape[0]"
      ]
    },
    {
      "cell_type": "markdown",
      "id": "22b8ea1f",
      "metadata": {
        "id": "22b8ea1f"
      },
      "source": [
        "**Zadanie 10.** Sprawdź czy zbiór zawiera brakujące wartości - null"
      ]
    },
    {
      "cell_type": "code",
      "execution_count": null,
      "id": "0c2e8995",
      "metadata": {
        "id": "0c2e8995"
      },
      "outputs": [],
      "source": [
        "dataset.isnull().sum()/dataset.shape[0]"
      ]
    },
    {
      "cell_type": "markdown",
      "id": "70c1ee1c",
      "metadata": {
        "id": "70c1ee1c"
      },
      "source": [
        "**Zadanie 11.** Zamień kolumny kategoryczne na numeryczne"
      ]
    },
    {
      "cell_type": "code",
      "execution_count": null,
      "id": "ad651823",
      "metadata": {
        "id": "ad651823"
      },
      "outputs": [],
      "source": [
        "cols_to_encode = [\"Temperature\",\"Humidity\",\"PM2.5\",\"PM10\",\"NO2\",\"SO2\",\"CO\",\"Proximity_to_Industrial_Areas\",\"Population_Density\",\"Air Quality\"]"
      ]
    },
    {
      "cell_type": "code",
      "execution_count": null,
      "id": "e2ffc1ff",
      "metadata": {
        "id": "e2ffc1ff"
      },
      "outputs": [],
      "source": [
        "le = LabelEncoder()\n",
        "\n",
        "for col in cols_to_encode:\n",
        "    dataset[col] = le.fit_transform(dataset[col])\n",
        "\n",
        "dataset"
      ]
    },
    {
      "cell_type": "markdown",
      "id": "634ca7f4",
      "metadata": {
        "id": "634ca7f4"
      },
      "source": [
        "**Zadanie 12.** Wyświetl wykresy par zmiennych względem Air Quality"
      ]
    },
    {
      "cell_type": "code",
      "execution_count": null,
      "id": "26466ed0",
      "metadata": {
        "id": "26466ed0"
      },
      "outputs": [],
      "source": [
        "sns.pairplot(dataset)"
      ]
    },
    {
      "cell_type": "markdown",
      "id": "d3d8af19",
      "metadata": {
        "id": "d3d8af19"
      },
      "source": [
        "**Zadanie 13.** Podziel zbiór danych na X i y - Air Quality"
      ]
    },
    {
      "cell_type": "code",
      "execution_count": null,
      "id": "ba07ee48",
      "metadata": {
        "id": "ba07ee48"
      },
      "outputs": [],
      "source": [
        "X = dataset.drop('Air Quality',axis=1)\n",
        "y = dataset[\"Air Quality\"]"
      ]
    },
    {
      "cell_type": "markdown",
      "id": "166cbc7a",
      "metadata": {
        "id": "166cbc7a"
      },
      "source": [
        "**Zadanie 14.** Przeskaluj/znormalizuj lub ustandaryzuj X"
      ]
    },
    {
      "cell_type": "code",
      "execution_count": null,
      "id": "9130402a",
      "metadata": {
        "id": "9130402a"
      },
      "outputs": [],
      "source": [
        "scaler = StandardScaler()\n",
        "X = scaler.fit_transform(X)"
      ]
    },
    {
      "cell_type": "markdown",
      "id": "dbd7ee2c",
      "metadata": {
        "id": "dbd7ee2c"
      },
      "source": [
        "**Zadanie 15.** Podziel zbiór danych na treningowy i testowy"
      ]
    },
    {
      "cell_type": "code",
      "execution_count": null,
      "id": "8726b257",
      "metadata": {
        "id": "8726b257"
      },
      "outputs": [],
      "source": [
        "X_train, X_test, y_train, y_test = train_test_split(X, y, test_size=0.2, random_state=42)"
      ]
    },
    {
      "cell_type": "markdown",
      "id": "50810e2a",
      "metadata": {
        "id": "50810e2a"
      },
      "source": [
        "**Zadanie 16.** Stwórz model sieci z warstw w pełni połączonych - ostatnia warstwa ma 4 wyjścia, a jej funkcja aktywacji to softmax"
      ]
    },
    {
      "cell_type": "code",
      "execution_count": null,
      "id": "db8bf2d0",
      "metadata": {
        "id": "db8bf2d0"
      },
      "outputs": [],
      "source": [
        "model = tf.keras.Sequential([\n",
        "    Dense(1024, activation='relu', input_shape=X_train.shape[1:]),\n",
        "    Dense(512, activation='relu'),\n",
        "    Dense(256, activation='relu'),\n",
        "    Dense(128, activation='relu'),\n",
        "    Dense(64, activation='relu'),\n",
        "    Dense(16, activation='relu'),\n",
        "    Dense(4, activation='relu'),\n",
        "])"
      ]
    },
    {
      "cell_type": "markdown",
      "id": "e74bfcd4",
      "metadata": {
        "id": "e74bfcd4"
      },
      "source": [
        "**Zadanie 17.** Ustaw funkcję kosztu (sparse_categorical_crossentropy ), optymalizator oraz metryki"
      ]
    },
    {
      "cell_type": "code",
      "execution_count": null,
      "id": "454cb730",
      "metadata": {
        "id": "454cb730"
      },
      "outputs": [],
      "source": [
        "model.compile(\n",
        "    loss=binary_crossentropy,\n",
        "    optimizer=Adam(learning_rate=0.001),\n",
        "    metrics=[\n",
        "        tf.keras.metrics.BinaryAccuracy(name='accuracy'),\n",
        "        tf.keras.metrics.Precision(name='precision'),\n",
        "        tf.keras.metrics.Recall(name='recall'),\n",
        "        tf.keras.metrics.Recall(name='F1Score'),\n",
        "    ],\n",
        ")"
      ]
    },
    {
      "cell_type": "markdown",
      "id": "d2a4b130",
      "metadata": {
        "id": "d2a4b130"
      },
      "source": [
        "**Zadanie 18.** Zbuduj model"
      ]
    },
    {
      "cell_type": "code",
      "execution_count": null,
      "id": "881ed870",
      "metadata": {
        "id": "881ed870"
      },
      "outputs": [],
      "source": [
        "model.build(X_train.shape)"
      ]
    },
    {
      "cell_type": "markdown",
      "id": "1e73e505",
      "metadata": {
        "id": "1e73e505"
      },
      "source": [
        "**Zadanie 19.** Wyświetl podsumowanie modelu"
      ]
    },
    {
      "cell_type": "code",
      "execution_count": null,
      "id": "9761a9fb",
      "metadata": {
        "id": "9761a9fb"
      },
      "outputs": [],
      "source": [
        "model.summary()"
      ]
    },
    {
      "cell_type": "markdown",
      "id": "88bb758f",
      "metadata": {
        "id": "88bb758f"
      },
      "source": [
        "**Zadanie 20.** Ustaw liczbę epok i wytrenuj model zapisując go do zmiennej *history*"
      ]
    },
    {
      "cell_type": "code",
      "execution_count": null,
      "id": "270dbec6",
      "metadata": {
        "id": "270dbec6"
      },
      "outputs": [],
      "source": [
        "epochs=3\n",
        "history = model.fit(X_train, y_train, epochs=epochs, batch_size=BATCH_SIZE, validation_data=(X_valid, y_valid))"
      ]
    },
    {
      "cell_type": "markdown",
      "id": "9945f9c6",
      "metadata": {
        "id": "9945f9c6"
      },
      "source": [
        "**Zadanie 21.** Wyświetl wykres dokładności dla danych treningowych"
      ]
    },
    {
      "cell_type": "code",
      "execution_count": null,
      "id": "b0267bbb",
      "metadata": {
        "id": "b0267bbb"
      },
      "outputs": [],
      "source": [
        "plt.plot(\n",
        "    np.arange(1, epochs+1),\n",
        "    history.history['val_accuracy'],label='Val Accuracy',\n",
        ")\n",
        "plt.plot(\n",
        "    np.arange(1, epochs+1),\n",
        "    history.history['accuracy'], label='Train Accuracy',\n",
        ")\n",
        "plt.title('Evaluation metrics', size=20)\n",
        "plt.xlabel('Epoch', size=14)\n",
        "plt.ylabel('Score', size=14)\n",
        "plt.legend()"
      ]
    },
    {
      "cell_type": "markdown",
      "id": "b06f9db1",
      "metadata": {
        "id": "b06f9db1"
      },
      "source": [
        "**Zadanie 22.** Zredukuj wymiarowość X do 2 cech za pomocą PCA"
      ]
    },
    {
      "cell_type": "code",
      "execution_count": null,
      "id": "1b67f106",
      "metadata": {
        "id": "1b67f106"
      },
      "outputs": [],
      "source": [
        "pca = PCA(n_components=2)\n",
        "X_pca_2 = pca.fit_transform(X)"
      ]
    },
    {
      "cell_type": "markdown",
      "id": "1ab2c1e3",
      "metadata": {
        "id": "1ab2c1e3"
      },
      "source": [
        "**Zadanie 23.** Podziel zbiór danych X_pca na treningowy i testowy"
      ]
    },
    {
      "cell_type": "code",
      "execution_count": null,
      "id": "3a7cfe28",
      "metadata": {
        "id": "3a7cfe28"
      },
      "outputs": [],
      "source": [
        "X_train, X_test = train_test_split(X_pca_2, test_size=1, random_state=42)"
      ]
    },
    {
      "cell_type": "markdown",
      "id": "43e9d297",
      "metadata": {
        "id": "43e9d297"
      },
      "source": [
        "**Zadanie 24.** Stwórz model sieci z warstw w pełni połączonych - ostatnia warstwa ma 4 wyjścia, a jej funkcja aktywacji to softmax"
      ]
    },
    {
      "cell_type": "code",
      "execution_count": null,
      "id": "629dea95",
      "metadata": {
        "id": "629dea95"
      },
      "outputs": [],
      "source": [
        "model = tf.keras.Sequential([\n",
        "    Dense(1024, activation='relu', input_shape=X_train.shape[1:]),\n",
        "    Dense(512, activation='relu'),\n",
        "    Dense(256, activation='relu'),\n",
        "    Dense(128, activation='relu'),\n",
        "    Dense(64, activation='relu'),\n",
        "    Dense(16, activation='relu'),\n",
        "    Dense(4, activation='relu'),\n",
        "])"
      ]
    },
    {
      "cell_type": "markdown",
      "id": "5f0ffbd3",
      "metadata": {
        "id": "5f0ffbd3"
      },
      "source": [
        "**Zadanie 25.** Ustaw funkcję kosztu (sparse_categorical_crossentropy ), optymalizator oraz metryki"
      ]
    },
    {
      "cell_type": "code",
      "execution_count": null,
      "id": "3281ceb3",
      "metadata": {
        "id": "3281ceb3"
      },
      "outputs": [],
      "source": [
        "model.compile(\n",
        "    loss=binary_crossentropy,\n",
        "    optimizer=Adam(learning_rate=0.001),\n",
        "    metrics=[\n",
        "        tf.keras.metrics.BinaryAccuracy(name='accuracy'),\n",
        "        tf.keras.metrics.Precision(name='precision'),\n",
        "        tf.keras.metrics.Recall(name='recall'),\n",
        "        tf.keras.metrics.Recall(name='F1Score'),\n",
        "    ],\n",
        ")"
      ]
    },
    {
      "cell_type": "markdown",
      "id": "8095ca55",
      "metadata": {
        "id": "8095ca55"
      },
      "source": [
        "\n",
        "\n",
        "```\n",
        "# Sformatowano jako kod\n",
        "```\n",
        "\n",
        "**Zadanie 26.** Zbuduj model"
      ]
    },
    {
      "cell_type": "code",
      "source": [
        "model.build()"
      ],
      "metadata": {
        "id": "9WzI1qgGNMtF"
      },
      "id": "9WzI1qgGNMtF",
      "execution_count": null,
      "outputs": []
    },
    {
      "cell_type": "markdown",
      "id": "21e2659c",
      "metadata": {
        "id": "21e2659c"
      },
      "source": [
        "**Zadanie 27.** Wyświetl podsumowanie modelu"
      ]
    },
    {
      "cell_type": "code",
      "execution_count": null,
      "id": "1f9002eb",
      "metadata": {
        "id": "1f9002eb"
      },
      "outputs": [],
      "source": [
        "model.summary()"
      ]
    },
    {
      "cell_type": "markdown",
      "id": "881f260d",
      "metadata": {
        "id": "881f260d"
      },
      "source": [
        "**Zadanie 28.** Ustaw liczbę epok i wytrenuj model zapisując go do zmiennej *history*"
      ]
    },
    {
      "cell_type": "code",
      "execution_count": null,
      "id": "12d8f388",
      "metadata": {
        "id": "12d8f388"
      },
      "outputs": [],
      "source": [
        "epochs=50\n",
        "history = model.fit(X_train, y_train, epochs=epochs, batch_size=128, validation_data=(X_valid, y_valid))"
      ]
    },
    {
      "cell_type": "markdown",
      "id": "c6e581cc",
      "metadata": {
        "id": "c6e581cc"
      },
      "source": [
        "**Zadanie 29.** Wyświetl wykres dokładności dla danych treningowych"
      ]
    },
    {
      "cell_type": "code",
      "execution_count": null,
      "id": "ed8ab261",
      "metadata": {
        "id": "ed8ab261"
      },
      "outputs": [],
      "source": [
        "plt.plot(range(mlp.epochs), mlp.eval_['train_acc'],\n",
        "         label='Training')\n",
        "plt.ylabel('Accuracy')\n",
        "plt.xlabel('Epochs')\n",
        "plt.legend(loc='lower right')\n",
        "\n",
        "plt.show()"
      ]
    },
    {
      "cell_type": "markdown",
      "id": "ed955d44",
      "metadata": {
        "id": "ed955d44"
      },
      "source": [
        "[tekst linku](https://)**Zadanie 30.** Wyświetl dane po redukcji wymiarowości"
      ]
    },
    {
      "cell_type": "code",
      "execution_count": null,
      "id": "57aac5ac",
      "metadata": {
        "id": "57aac5ac"
      },
      "outputs": [],
      "source": [
        "for lab in y.unique()[::-1]:\n",
        "    plt.scatter(X_pca_2[y == lab, 0],\n",
        "                X_pca_2[y == lab,1],\n",
        "                alpha=0.5,\n",
        "                label=f\"class: {lab}\")\n",
        "plt.legend()\n",
        "plt.title(\"Dane po redukcji wymiarowości\")\n",
        "plt.show()"
      ]
    },
    {
      "cell_type": "code",
      "execution_count": null,
      "id": "6b111cc4",
      "metadata": {
        "id": "6b111cc4"
      },
      "outputs": [],
      "source": [
        "def plot_decision_regions(X, y, classifier, resolution=0.02):\n",
        "\n",
        "    # setup marker generator and color map\n",
        "    markers = ('s', 'x', 'o', '^', 'v')\n",
        "    colors = ('red', 'blue', 'lightgreen', 'gray', 'cyan')\n",
        "    cmap = ListedColormap(colors[:len(np.unique(y))])\n",
        "\n",
        "    # plot the decision surface\n",
        "    x1_min, x1_max = X[:, 0].min() - 1, X[:, 0].max() + 1\n",
        "    x2_min, x2_max = X[:, 1].min() - 1, X[:, 1].max() + 1\n",
        "    xx1, xx2 = np.meshgrid(np.arange(x1_min, x1_max, resolution),\n",
        "                           np.arange(x2_min, x2_max, resolution))\n",
        "    Z = classifier.predict(np.array([xx1.ravel(), xx2.ravel()]).T)\n",
        "    Z = np.argmax(Z, axis=1)\n",
        "    Z = Z.reshape(xx1.shape)\n",
        "    plt.contourf(xx1, xx2, Z, alpha=0.3, cmap=cmap)\n",
        "    plt.xlim(xx1.min(), xx1.max())\n",
        "    plt.ylim(xx2.min(), xx2.max())\n",
        "\n",
        "    # plot class examples\n",
        "    for idx, cl in enumerate(np.unique(y)):\n",
        "        plt.scatter(x=X[y == cl, 0],\n",
        "                    y=X[y == cl, 1],\n",
        "                    alpha=0.8,\n",
        "                    c=colors[idx],\n",
        "                    marker=markers[idx],\n",
        "                    label=cl,\n",
        "                    edgecolor='black')"
      ]
    },
    {
      "cell_type": "markdown",
      "id": "0aa225a0",
      "metadata": {
        "id": "0aa225a0"
      },
      "source": [
        "**Zadanie 31.** Wyświetl regiony decyzyjne wytrenowanej sieci neuronowej"
      ]
    },
    {
      "cell_type": "code",
      "execution_count": null,
      "id": "53fef445",
      "metadata": {
        "id": "53fef445"
      },
      "outputs": [],
      "source": [
        "plot_decision_regions(X_test, y_test, classifier=model)\n",
        "plt.title('Artifficial Neural Network')\n",
        "plt.xlabel('PCA1')\n",
        "plt.ylabel('PCA2')\n",
        "plt.legend(loc='upper left')\n",
        "plt.tight_layout()\n",
        "plt.show()"
      ]
    }
  ],
  "metadata": {
    "kernelspec": {
      "display_name": "Python 3 (ipykernel)",
      "language": "python",
      "name": "python3"
    },
    "language_info": {
      "codemirror_mode": {
        "name": "ipython",
        "version": 3
      },
      "file_extension": ".py",
      "mimetype": "text/x-python",
      "name": "python",
      "nbconvert_exporter": "python",
      "pygments_lexer": "ipython3",
      "version": "3.10.16"
    },
    "colab": {
      "provenance": [],
      "include_colab_link": true
    }
  },
  "nbformat": 4,
  "nbformat_minor": 5
}